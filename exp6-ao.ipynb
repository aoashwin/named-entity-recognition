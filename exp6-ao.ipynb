{
  "nbformat": 4,
  "nbformat_minor": 0,
  "metadata": {
    "colab": {
      "provenance": [],
      "collapsed_sections": []
    },
    "kernelspec": {
      "name": "python3",
      "display_name": "Python 3"
    },
    "language_info": {
      "name": "python"
    },
    "accelerator": "GPU"
  },
  "cells": [
    {
      "cell_type": "code",
      "execution_count": null,
      "metadata": {
        "id": "zhlRAGkkc-Sh"
      },
      "outputs": [],
      "source": [
        "import matplotlib.pyplot as plt\n",
        "import pandas as pd\n",
        "import numpy as np\n",
        "from tensorflow.keras.preprocessing import sequence\n",
        "from sklearn.model_selection import train_test_split\n",
        "from keras import layers\n",
        "from keras.models import Model"
      ]
    },
    {
      "cell_type": "markdown",
      "source": [
        "Essential info about tagged entities:\n",
        "```\n",
        "geo = Geographical Entity\n",
        "org = Organization\n",
        "per = Person\n",
        "gpe = Geopolitical Entity\n",
        "tim = Time indicator\n",
        "art = Artifact\n",
        "eve = Event\n",
        "nat = Natural Phenomenon\n",
        "```"
      ],
      "metadata": {
        "id": "32v7IU9Pom1o"
      }
    },
    {
      "cell_type": "code",
      "source": [
        "data = pd.read_csv(\"ner_dataset.csv\", encoding=\"latin1\")"
      ],
      "metadata": {
        "id": "SBffZlAgocDh"
      },
      "execution_count": null,
      "outputs": []
    },
    {
      "cell_type": "code",
      "source": [
        "data.head(10)"
      ],
      "metadata": {
        "id": "tqqCE7zqolER",
        "colab": {
          "base_uri": "https://localhost:8080/",
          "height": 363
        },
        "outputId": "08f938a7-63c5-45f2-80ae-6711a25f19f0"
      },
      "execution_count": null,
      "outputs": [
        {
          "output_type": "execute_result",
          "data": {
            "text/plain": [
              "    Sentence #           Word  POS    Tag\n",
              "0  Sentence: 1      Thousands  NNS      O\n",
              "1          NaN             of   IN      O\n",
              "2          NaN  demonstrators  NNS      O\n",
              "3          NaN           have  VBP      O\n",
              "4          NaN        marched  VBN      O\n",
              "5          NaN        through   IN      O\n",
              "6          NaN         London  NNP  B-geo\n",
              "7          NaN             to   TO      O\n",
              "8          NaN        protest   VB      O\n",
              "9          NaN            the   DT      O"
            ],
            "text/html": [
              "\n",
              "  <div id=\"df-4ba2c437-0d9f-451c-9c0b-cbb6c1fc6f50\">\n",
              "    <div class=\"colab-df-container\">\n",
              "      <div>\n",
              "<style scoped>\n",
              "    .dataframe tbody tr th:only-of-type {\n",
              "        vertical-align: middle;\n",
              "    }\n",
              "\n",
              "    .dataframe tbody tr th {\n",
              "        vertical-align: top;\n",
              "    }\n",
              "\n",
              "    .dataframe thead th {\n",
              "        text-align: right;\n",
              "    }\n",
              "</style>\n",
              "<table border=\"1\" class=\"dataframe\">\n",
              "  <thead>\n",
              "    <tr style=\"text-align: right;\">\n",
              "      <th></th>\n",
              "      <th>Sentence #</th>\n",
              "      <th>Word</th>\n",
              "      <th>POS</th>\n",
              "      <th>Tag</th>\n",
              "    </tr>\n",
              "  </thead>\n",
              "  <tbody>\n",
              "    <tr>\n",
              "      <th>0</th>\n",
              "      <td>Sentence: 1</td>\n",
              "      <td>Thousands</td>\n",
              "      <td>NNS</td>\n",
              "      <td>O</td>\n",
              "    </tr>\n",
              "    <tr>\n",
              "      <th>1</th>\n",
              "      <td>NaN</td>\n",
              "      <td>of</td>\n",
              "      <td>IN</td>\n",
              "      <td>O</td>\n",
              "    </tr>\n",
              "    <tr>\n",
              "      <th>2</th>\n",
              "      <td>NaN</td>\n",
              "      <td>demonstrators</td>\n",
              "      <td>NNS</td>\n",
              "      <td>O</td>\n",
              "    </tr>\n",
              "    <tr>\n",
              "      <th>3</th>\n",
              "      <td>NaN</td>\n",
              "      <td>have</td>\n",
              "      <td>VBP</td>\n",
              "      <td>O</td>\n",
              "    </tr>\n",
              "    <tr>\n",
              "      <th>4</th>\n",
              "      <td>NaN</td>\n",
              "      <td>marched</td>\n",
              "      <td>VBN</td>\n",
              "      <td>O</td>\n",
              "    </tr>\n",
              "    <tr>\n",
              "      <th>5</th>\n",
              "      <td>NaN</td>\n",
              "      <td>through</td>\n",
              "      <td>IN</td>\n",
              "      <td>O</td>\n",
              "    </tr>\n",
              "    <tr>\n",
              "      <th>6</th>\n",
              "      <td>NaN</td>\n",
              "      <td>London</td>\n",
              "      <td>NNP</td>\n",
              "      <td>B-geo</td>\n",
              "    </tr>\n",
              "    <tr>\n",
              "      <th>7</th>\n",
              "      <td>NaN</td>\n",
              "      <td>to</td>\n",
              "      <td>TO</td>\n",
              "      <td>O</td>\n",
              "    </tr>\n",
              "    <tr>\n",
              "      <th>8</th>\n",
              "      <td>NaN</td>\n",
              "      <td>protest</td>\n",
              "      <td>VB</td>\n",
              "      <td>O</td>\n",
              "    </tr>\n",
              "    <tr>\n",
              "      <th>9</th>\n",
              "      <td>NaN</td>\n",
              "      <td>the</td>\n",
              "      <td>DT</td>\n",
              "      <td>O</td>\n",
              "    </tr>\n",
              "  </tbody>\n",
              "</table>\n",
              "</div>\n",
              "      <button class=\"colab-df-convert\" onclick=\"convertToInteractive('df-4ba2c437-0d9f-451c-9c0b-cbb6c1fc6f50')\"\n",
              "              title=\"Convert this dataframe to an interactive table.\"\n",
              "              style=\"display:none;\">\n",
              "        \n",
              "  <svg xmlns=\"http://www.w3.org/2000/svg\" height=\"24px\"viewBox=\"0 0 24 24\"\n",
              "       width=\"24px\">\n",
              "    <path d=\"M0 0h24v24H0V0z\" fill=\"none\"/>\n",
              "    <path d=\"M18.56 5.44l.94 2.06.94-2.06 2.06-.94-2.06-.94-.94-2.06-.94 2.06-2.06.94zm-11 1L8.5 8.5l.94-2.06 2.06-.94-2.06-.94L8.5 2.5l-.94 2.06-2.06.94zm10 10l.94 2.06.94-2.06 2.06-.94-2.06-.94-.94-2.06-.94 2.06-2.06.94z\"/><path d=\"M17.41 7.96l-1.37-1.37c-.4-.4-.92-.59-1.43-.59-.52 0-1.04.2-1.43.59L10.3 9.45l-7.72 7.72c-.78.78-.78 2.05 0 2.83L4 21.41c.39.39.9.59 1.41.59.51 0 1.02-.2 1.41-.59l7.78-7.78 2.81-2.81c.8-.78.8-2.07 0-2.86zM5.41 20L4 18.59l7.72-7.72 1.47 1.35L5.41 20z\"/>\n",
              "  </svg>\n",
              "      </button>\n",
              "      \n",
              "  <style>\n",
              "    .colab-df-container {\n",
              "      display:flex;\n",
              "      flex-wrap:wrap;\n",
              "      gap: 12px;\n",
              "    }\n",
              "\n",
              "    .colab-df-convert {\n",
              "      background-color: #E8F0FE;\n",
              "      border: none;\n",
              "      border-radius: 50%;\n",
              "      cursor: pointer;\n",
              "      display: none;\n",
              "      fill: #1967D2;\n",
              "      height: 32px;\n",
              "      padding: 0 0 0 0;\n",
              "      width: 32px;\n",
              "    }\n",
              "\n",
              "    .colab-df-convert:hover {\n",
              "      background-color: #E2EBFA;\n",
              "      box-shadow: 0px 1px 2px rgba(60, 64, 67, 0.3), 0px 1px 3px 1px rgba(60, 64, 67, 0.15);\n",
              "      fill: #174EA6;\n",
              "    }\n",
              "\n",
              "    [theme=dark] .colab-df-convert {\n",
              "      background-color: #3B4455;\n",
              "      fill: #D2E3FC;\n",
              "    }\n",
              "\n",
              "    [theme=dark] .colab-df-convert:hover {\n",
              "      background-color: #434B5C;\n",
              "      box-shadow: 0px 1px 3px 1px rgba(0, 0, 0, 0.15);\n",
              "      filter: drop-shadow(0px 1px 2px rgba(0, 0, 0, 0.3));\n",
              "      fill: #FFFFFF;\n",
              "    }\n",
              "  </style>\n",
              "\n",
              "      <script>\n",
              "        const buttonEl =\n",
              "          document.querySelector('#df-4ba2c437-0d9f-451c-9c0b-cbb6c1fc6f50 button.colab-df-convert');\n",
              "        buttonEl.style.display =\n",
              "          google.colab.kernel.accessAllowed ? 'block' : 'none';\n",
              "\n",
              "        async function convertToInteractive(key) {\n",
              "          const element = document.querySelector('#df-4ba2c437-0d9f-451c-9c0b-cbb6c1fc6f50');\n",
              "          const dataTable =\n",
              "            await google.colab.kernel.invokeFunction('convertToInteractive',\n",
              "                                                     [key], {});\n",
              "          if (!dataTable) return;\n",
              "\n",
              "          const docLinkHtml = 'Like what you see? Visit the ' +\n",
              "            '<a target=\"_blank\" href=https://colab.research.google.com/notebooks/data_table.ipynb>data table notebook</a>'\n",
              "            + ' to learn more about interactive tables.';\n",
              "          element.innerHTML = '';\n",
              "          dataTable['output_type'] = 'display_data';\n",
              "          await google.colab.output.renderOutput(dataTable, element);\n",
              "          const docLink = document.createElement('div');\n",
              "          docLink.innerHTML = docLinkHtml;\n",
              "          element.appendChild(docLink);\n",
              "        }\n",
              "      </script>\n",
              "    </div>\n",
              "  </div>\n",
              "  "
            ]
          },
          "metadata": {},
          "execution_count": 4
        }
      ]
    },
    {
      "cell_type": "code",
      "source": [
        "data = data.fillna(method=\"ffill\")"
      ],
      "metadata": {
        "id": "HoHAg7KZo69w"
      },
      "execution_count": null,
      "outputs": []
    },
    {
      "cell_type": "code",
      "source": [
        "data.head(5)"
      ],
      "metadata": {
        "id": "0DMO1sJ9o9zA",
        "colab": {
          "base_uri": "https://localhost:8080/",
          "height": 206
        },
        "outputId": "3079b98b-362b-4388-9c94-6e818ed5dfd1"
      },
      "execution_count": null,
      "outputs": [
        {
          "output_type": "execute_result",
          "data": {
            "text/plain": [
              "    Sentence #           Word  POS Tag\n",
              "0  Sentence: 1      Thousands  NNS   O\n",
              "1  Sentence: 1             of   IN   O\n",
              "2  Sentence: 1  demonstrators  NNS   O\n",
              "3  Sentence: 1           have  VBP   O\n",
              "4  Sentence: 1        marched  VBN   O"
            ],
            "text/html": [
              "\n",
              "  <div id=\"df-76d7df48-878b-4421-b1c5-04029590c03b\">\n",
              "    <div class=\"colab-df-container\">\n",
              "      <div>\n",
              "<style scoped>\n",
              "    .dataframe tbody tr th:only-of-type {\n",
              "        vertical-align: middle;\n",
              "    }\n",
              "\n",
              "    .dataframe tbody tr th {\n",
              "        vertical-align: top;\n",
              "    }\n",
              "\n",
              "    .dataframe thead th {\n",
              "        text-align: right;\n",
              "    }\n",
              "</style>\n",
              "<table border=\"1\" class=\"dataframe\">\n",
              "  <thead>\n",
              "    <tr style=\"text-align: right;\">\n",
              "      <th></th>\n",
              "      <th>Sentence #</th>\n",
              "      <th>Word</th>\n",
              "      <th>POS</th>\n",
              "      <th>Tag</th>\n",
              "    </tr>\n",
              "  </thead>\n",
              "  <tbody>\n",
              "    <tr>\n",
              "      <th>0</th>\n",
              "      <td>Sentence: 1</td>\n",
              "      <td>Thousands</td>\n",
              "      <td>NNS</td>\n",
              "      <td>O</td>\n",
              "    </tr>\n",
              "    <tr>\n",
              "      <th>1</th>\n",
              "      <td>Sentence: 1</td>\n",
              "      <td>of</td>\n",
              "      <td>IN</td>\n",
              "      <td>O</td>\n",
              "    </tr>\n",
              "    <tr>\n",
              "      <th>2</th>\n",
              "      <td>Sentence: 1</td>\n",
              "      <td>demonstrators</td>\n",
              "      <td>NNS</td>\n",
              "      <td>O</td>\n",
              "    </tr>\n",
              "    <tr>\n",
              "      <th>3</th>\n",
              "      <td>Sentence: 1</td>\n",
              "      <td>have</td>\n",
              "      <td>VBP</td>\n",
              "      <td>O</td>\n",
              "    </tr>\n",
              "    <tr>\n",
              "      <th>4</th>\n",
              "      <td>Sentence: 1</td>\n",
              "      <td>marched</td>\n",
              "      <td>VBN</td>\n",
              "      <td>O</td>\n",
              "    </tr>\n",
              "  </tbody>\n",
              "</table>\n",
              "</div>\n",
              "      <button class=\"colab-df-convert\" onclick=\"convertToInteractive('df-76d7df48-878b-4421-b1c5-04029590c03b')\"\n",
              "              title=\"Convert this dataframe to an interactive table.\"\n",
              "              style=\"display:none;\">\n",
              "        \n",
              "  <svg xmlns=\"http://www.w3.org/2000/svg\" height=\"24px\"viewBox=\"0 0 24 24\"\n",
              "       width=\"24px\">\n",
              "    <path d=\"M0 0h24v24H0V0z\" fill=\"none\"/>\n",
              "    <path d=\"M18.56 5.44l.94 2.06.94-2.06 2.06-.94-2.06-.94-.94-2.06-.94 2.06-2.06.94zm-11 1L8.5 8.5l.94-2.06 2.06-.94-2.06-.94L8.5 2.5l-.94 2.06-2.06.94zm10 10l.94 2.06.94-2.06 2.06-.94-2.06-.94-.94-2.06-.94 2.06-2.06.94z\"/><path d=\"M17.41 7.96l-1.37-1.37c-.4-.4-.92-.59-1.43-.59-.52 0-1.04.2-1.43.59L10.3 9.45l-7.72 7.72c-.78.78-.78 2.05 0 2.83L4 21.41c.39.39.9.59 1.41.59.51 0 1.02-.2 1.41-.59l7.78-7.78 2.81-2.81c.8-.78.8-2.07 0-2.86zM5.41 20L4 18.59l7.72-7.72 1.47 1.35L5.41 20z\"/>\n",
              "  </svg>\n",
              "      </button>\n",
              "      \n",
              "  <style>\n",
              "    .colab-df-container {\n",
              "      display:flex;\n",
              "      flex-wrap:wrap;\n",
              "      gap: 12px;\n",
              "    }\n",
              "\n",
              "    .colab-df-convert {\n",
              "      background-color: #E8F0FE;\n",
              "      border: none;\n",
              "      border-radius: 50%;\n",
              "      cursor: pointer;\n",
              "      display: none;\n",
              "      fill: #1967D2;\n",
              "      height: 32px;\n",
              "      padding: 0 0 0 0;\n",
              "      width: 32px;\n",
              "    }\n",
              "\n",
              "    .colab-df-convert:hover {\n",
              "      background-color: #E2EBFA;\n",
              "      box-shadow: 0px 1px 2px rgba(60, 64, 67, 0.3), 0px 1px 3px 1px rgba(60, 64, 67, 0.15);\n",
              "      fill: #174EA6;\n",
              "    }\n",
              "\n",
              "    [theme=dark] .colab-df-convert {\n",
              "      background-color: #3B4455;\n",
              "      fill: #D2E3FC;\n",
              "    }\n",
              "\n",
              "    [theme=dark] .colab-df-convert:hover {\n",
              "      background-color: #434B5C;\n",
              "      box-shadow: 0px 1px 3px 1px rgba(0, 0, 0, 0.15);\n",
              "      filter: drop-shadow(0px 1px 2px rgba(0, 0, 0, 0.3));\n",
              "      fill: #FFFFFF;\n",
              "    }\n",
              "  </style>\n",
              "\n",
              "      <script>\n",
              "        const buttonEl =\n",
              "          document.querySelector('#df-76d7df48-878b-4421-b1c5-04029590c03b button.colab-df-convert');\n",
              "        buttonEl.style.display =\n",
              "          google.colab.kernel.accessAllowed ? 'block' : 'none';\n",
              "\n",
              "        async function convertToInteractive(key) {\n",
              "          const element = document.querySelector('#df-76d7df48-878b-4421-b1c5-04029590c03b');\n",
              "          const dataTable =\n",
              "            await google.colab.kernel.invokeFunction('convertToInteractive',\n",
              "                                                     [key], {});\n",
              "          if (!dataTable) return;\n",
              "\n",
              "          const docLinkHtml = 'Like what you see? Visit the ' +\n",
              "            '<a target=\"_blank\" href=https://colab.research.google.com/notebooks/data_table.ipynb>data table notebook</a>'\n",
              "            + ' to learn more about interactive tables.';\n",
              "          element.innerHTML = '';\n",
              "          dataTable['output_type'] = 'display_data';\n",
              "          await google.colab.output.renderOutput(dataTable, element);\n",
              "          const docLink = document.createElement('div');\n",
              "          docLink.innerHTML = docLinkHtml;\n",
              "          element.appendChild(docLink);\n",
              "        }\n",
              "      </script>\n",
              "    </div>\n",
              "  </div>\n",
              "  "
            ]
          },
          "metadata": {},
          "execution_count": 6
        }
      ]
    },
    {
      "cell_type": "code",
      "source": [
        "print(\"Unique words in corpus:\", data['Word'].nunique())\n",
        "print(\"Unique tags in corpus:\", data['Tag'].nunique())"
      ],
      "metadata": {
        "id": "ArBV7Hu7pHUI",
        "colab": {
          "base_uri": "https://localhost:8080/"
        },
        "outputId": "266f1642-c8db-4fe8-ec06-21ab839d20a6"
      },
      "execution_count": null,
      "outputs": [
        {
          "output_type": "stream",
          "name": "stdout",
          "text": [
            "Unique words in corpus: 35178\n",
            "Unique tags in corpus: 17\n"
          ]
        }
      ]
    },
    {
      "cell_type": "code",
      "source": [
        "data.shape"
      ],
      "metadata": {
        "colab": {
          "base_uri": "https://localhost:8080/"
        },
        "id": "WnQkqx9DVfgy",
        "outputId": "4c318fac-d4c4-4414-cbbd-1fe1b5322ae5"
      },
      "execution_count": null,
      "outputs": [
        {
          "output_type": "execute_result",
          "data": {
            "text/plain": [
              "(1048575, 4)"
            ]
          },
          "metadata": {},
          "execution_count": 8
        }
      ]
    },
    {
      "cell_type": "code",
      "source": [
        "words=list(data['Word'].unique())\n",
        "words.append(\"ENDPAD\")\n",
        "tags=list(data['Tag'].unique())\n"
      ],
      "metadata": {
        "id": "vsdckyINwrCW"
      },
      "execution_count": null,
      "outputs": []
    },
    {
      "cell_type": "code",
      "source": [
        "print(\"Unique tags are:\", tags)"
      ],
      "metadata": {
        "id": "-IMsJobwpLpY",
        "colab": {
          "base_uri": "https://localhost:8080/"
        },
        "outputId": "235d8eac-5722-4607-a77d-29054c782ce8"
      },
      "execution_count": null,
      "outputs": [
        {
          "output_type": "stream",
          "name": "stdout",
          "text": [
            "Unique tags are: ['O', 'B-geo', 'B-gpe', 'B-per', 'I-geo', 'B-org', 'I-org', 'B-tim', 'B-art', 'I-art', 'I-per', 'I-gpe', 'I-tim', 'B-nat', 'B-eve', 'I-eve', 'I-nat']\n"
          ]
        }
      ]
    },
    {
      "cell_type": "code",
      "source": [
        "num_words = len(words)\n",
        "num_tags = len(tags)"
      ],
      "metadata": {
        "id": "qg_ixvHZ0kkc"
      },
      "execution_count": null,
      "outputs": []
    },
    {
      "cell_type": "code",
      "source": [
        "num_words"
      ],
      "metadata": {
        "id": "Dex8DMLv1F2V",
        "colab": {
          "base_uri": "https://localhost:8080/"
        },
        "outputId": "4c39d9ee-7e2c-4682-a38f-1e851e5f92d9"
      },
      "execution_count": null,
      "outputs": [
        {
          "output_type": "execute_result",
          "data": {
            "text/plain": [
              "35179"
            ]
          },
          "metadata": {},
          "execution_count": 12
        }
      ]
    },
    {
      "cell_type": "code",
      "source": [
        "class SentenceGetter(object):\n",
        "    def __init__(self, data):\n",
        "        self.n_sent = 1\n",
        "        self.data = data\n",
        "        self.empty = False\n",
        "        agg_func = lambda s: [(w, p, t) for w, p, t in zip(s[\"Word\"].values.tolist(),\n",
        "                                                           s[\"POS\"].values.tolist(),\n",
        "                                                           s[\"Tag\"].values.tolist())]\n",
        "        self.grouped = self.data.groupby(\"Sentence #\").apply(agg_func)\n",
        "        self.sentences = [s for s in self.grouped]\n",
        "    \n",
        "    def get_next(self):\n",
        "        try:\n",
        "            s = self.grouped[\"Sentence: {}\".format(self.n_sent)]\n",
        "            self.n_sent += 1\n",
        "            return s\n",
        "        except:\n",
        "            return None"
      ],
      "metadata": {
        "id": "Pz2RCZB6xFdd"
      },
      "execution_count": null,
      "outputs": []
    },
    {
      "cell_type": "code",
      "source": [
        "getter = SentenceGetter(data)\n",
        "sentences = getter.sentences"
      ],
      "metadata": {
        "id": "_H7HPRmRxILt"
      },
      "execution_count": null,
      "outputs": []
    },
    {
      "cell_type": "code",
      "source": [
        "len(sentences)"
      ],
      "metadata": {
        "id": "dg3I0kQgFmCQ",
        "colab": {
          "base_uri": "https://localhost:8080/"
        },
        "outputId": "75fd336c-116f-4ec9-fbb6-5f834b5bc12e"
      },
      "execution_count": null,
      "outputs": [
        {
          "output_type": "execute_result",
          "data": {
            "text/plain": [
              "47959"
            ]
          },
          "metadata": {},
          "execution_count": 15
        }
      ]
    },
    {
      "cell_type": "code",
      "source": [
        "sentences[0]"
      ],
      "metadata": {
        "id": "Q0LpMQoJxLdP",
        "colab": {
          "base_uri": "https://localhost:8080/"
        },
        "outputId": "5379324a-73a9-48bd-f06f-374ca7047db8"
      },
      "execution_count": null,
      "outputs": [
        {
          "output_type": "execute_result",
          "data": {
            "text/plain": [
              "[('Thousands', 'NNS', 'O'),\n",
              " ('of', 'IN', 'O'),\n",
              " ('demonstrators', 'NNS', 'O'),\n",
              " ('have', 'VBP', 'O'),\n",
              " ('marched', 'VBN', 'O'),\n",
              " ('through', 'IN', 'O'),\n",
              " ('London', 'NNP', 'B-geo'),\n",
              " ('to', 'TO', 'O'),\n",
              " ('protest', 'VB', 'O'),\n",
              " ('the', 'DT', 'O'),\n",
              " ('war', 'NN', 'O'),\n",
              " ('in', 'IN', 'O'),\n",
              " ('Iraq', 'NNP', 'B-geo'),\n",
              " ('and', 'CC', 'O'),\n",
              " ('demand', 'VB', 'O'),\n",
              " ('the', 'DT', 'O'),\n",
              " ('withdrawal', 'NN', 'O'),\n",
              " ('of', 'IN', 'O'),\n",
              " ('British', 'JJ', 'B-gpe'),\n",
              " ('troops', 'NNS', 'O'),\n",
              " ('from', 'IN', 'O'),\n",
              " ('that', 'DT', 'O'),\n",
              " ('country', 'NN', 'O'),\n",
              " ('.', '.', 'O')]"
            ]
          },
          "metadata": {},
          "execution_count": 16
        }
      ]
    },
    {
      "cell_type": "code",
      "source": [
        "word2idx = {w: i + 1 for i, w in enumerate(words)}\n",
        "tag2idx = {t: i for i, t in enumerate(tags)}"
      ],
      "metadata": {
        "id": "Dd1m9pn4xeke"
      },
      "execution_count": null,
      "outputs": []
    },
    {
      "cell_type": "code",
      "source": [
        "word2idx"
      ],
      "metadata": {
        "id": "_82Ey2PcXnht",
        "colab": {
          "base_uri": "https://localhost:8080/"
        },
        "outputId": "a2f3f81e-e03c-45f3-f288-b0ab011b8af6"
      },
      "execution_count": null,
      "outputs": [
        {
          "output_type": "execute_result",
          "data": {
            "text/plain": [
              "{'Thousands': 1,\n",
              " 'of': 2,\n",
              " 'demonstrators': 3,\n",
              " 'have': 4,\n",
              " 'marched': 5,\n",
              " 'through': 6,\n",
              " 'London': 7,\n",
              " 'to': 8,\n",
              " 'protest': 9,\n",
              " 'the': 10,\n",
              " 'war': 11,\n",
              " 'in': 12,\n",
              " 'Iraq': 13,\n",
              " 'and': 14,\n",
              " 'demand': 15,\n",
              " 'withdrawal': 16,\n",
              " 'British': 17,\n",
              " 'troops': 18,\n",
              " 'from': 19,\n",
              " 'that': 20,\n",
              " 'country': 21,\n",
              " '.': 22,\n",
              " 'Families': 23,\n",
              " 'soldiers': 24,\n",
              " 'killed': 25,\n",
              " 'conflict': 26,\n",
              " 'joined': 27,\n",
              " 'protesters': 28,\n",
              " 'who': 29,\n",
              " 'carried': 30,\n",
              " 'banners': 31,\n",
              " 'with': 32,\n",
              " 'such': 33,\n",
              " 'slogans': 34,\n",
              " 'as': 35,\n",
              " '\"': 36,\n",
              " 'Bush': 37,\n",
              " 'Number': 38,\n",
              " 'One': 39,\n",
              " 'Terrorist': 40,\n",
              " 'Stop': 41,\n",
              " 'Bombings': 42,\n",
              " 'They': 43,\n",
              " 'Houses': 44,\n",
              " 'Parliament': 45,\n",
              " 'a': 46,\n",
              " 'rally': 47,\n",
              " 'Hyde': 48,\n",
              " 'Park': 49,\n",
              " 'Police': 50,\n",
              " 'put': 51,\n",
              " 'number': 52,\n",
              " 'marchers': 53,\n",
              " 'at': 54,\n",
              " '10,000': 55,\n",
              " 'while': 56,\n",
              " 'organizers': 57,\n",
              " 'claimed': 58,\n",
              " 'it': 59,\n",
              " 'was': 60,\n",
              " '1,00,000': 61,\n",
              " 'The': 62,\n",
              " 'comes': 63,\n",
              " 'on': 64,\n",
              " 'eve': 65,\n",
              " 'annual': 66,\n",
              " 'conference': 67,\n",
              " 'Britain': 68,\n",
              " \"'s\": 69,\n",
              " 'ruling': 70,\n",
              " 'Labor': 71,\n",
              " 'Party': 72,\n",
              " 'southern': 73,\n",
              " 'English': 74,\n",
              " 'seaside': 75,\n",
              " 'resort': 76,\n",
              " 'Brighton': 77,\n",
              " 'party': 78,\n",
              " 'is': 79,\n",
              " 'divided': 80,\n",
              " 'over': 81,\n",
              " 'participation': 82,\n",
              " 'continued': 83,\n",
              " 'deployment': 84,\n",
              " '8,500': 85,\n",
              " 'march': 86,\n",
              " 'came': 87,\n",
              " 'ahead': 88,\n",
              " 'anti-war': 89,\n",
              " 'protests': 90,\n",
              " 'today': 91,\n",
              " 'other': 92,\n",
              " 'cities': 93,\n",
              " ',': 94,\n",
              " 'including': 95,\n",
              " 'Rome': 96,\n",
              " 'Paris': 97,\n",
              " 'Madrid': 98,\n",
              " 'International': 99,\n",
              " 'Atomic': 100,\n",
              " 'Energy': 101,\n",
              " 'Agency': 102,\n",
              " 'hold': 103,\n",
              " 'second': 104,\n",
              " 'day': 105,\n",
              " 'talks': 106,\n",
              " 'Vienna': 107,\n",
              " 'Wednesday': 108,\n",
              " 'how': 109,\n",
              " 'respond': 110,\n",
              " 'Iran': 111,\n",
              " 'resumption': 112,\n",
              " 'low-level': 113,\n",
              " 'uranium': 114,\n",
              " 'conversion': 115,\n",
              " 'this': 116,\n",
              " 'week': 117,\n",
              " 'restarted': 118,\n",
              " 'parts': 119,\n",
              " 'process': 120,\n",
              " 'its': 121,\n",
              " 'Isfahan': 122,\n",
              " 'nuclear': 123,\n",
              " 'plant': 124,\n",
              " 'Iranian': 125,\n",
              " 'officials': 126,\n",
              " 'say': 127,\n",
              " 'they': 128,\n",
              " 'expect': 129,\n",
              " 'get': 130,\n",
              " 'access': 131,\n",
              " 'sealed': 132,\n",
              " 'sensitive': 133,\n",
              " 'after': 134,\n",
              " 'an': 135,\n",
              " 'IAEA': 136,\n",
              " 'surveillance': 137,\n",
              " 'system': 138,\n",
              " 'begins': 139,\n",
              " 'functioning': 140,\n",
              " 'step': 141,\n",
              " 'will': 142,\n",
              " 'allow': 143,\n",
              " 'facility': 144,\n",
              " 'operate': 145,\n",
              " 'full': 146,\n",
              " 'capacity': 147,\n",
              " 'European': 148,\n",
              " 'Union': 149,\n",
              " 'U.S.': 150,\n",
              " 'backing': 151,\n",
              " 'has': 152,\n",
              " 'threatened': 153,\n",
              " 'refer': 154,\n",
              " 'U.N.': 155,\n",
              " 'Security': 156,\n",
              " 'Council': 157,\n",
              " 'which': 158,\n",
              " 'could': 159,\n",
              " 'impose': 160,\n",
              " 'sanctions': 161,\n",
              " 'if': 162,\n",
              " 'finds': 163,\n",
              " 'Tehran': 164,\n",
              " 'violated': 165,\n",
              " 'Nuclear': 166,\n",
              " 'Non-Proliferation': 167,\n",
              " 'treaty': 168,\n",
              " 'new': 169,\n",
              " 'President': 170,\n",
              " 'Mahmoud': 171,\n",
              " 'Ahmadinejad': 172,\n",
              " 'said': 173,\n",
              " 'Tuesday': 174,\n",
              " 'incentives': 175,\n",
              " 'aimed': 176,\n",
              " 'persuading': 177,\n",
              " 'end': 178,\n",
              " 'fuel': 179,\n",
              " 'program': 180,\n",
              " 'are': 181,\n",
              " 'insult': 182,\n",
              " 'nation': 183,\n",
              " 'Two': 184,\n",
              " 'Germans': 185,\n",
              " 'four': 186,\n",
              " 'Nigerian': 187,\n",
              " 'oil': 188,\n",
              " 'workers': 189,\n",
              " 'were': 190,\n",
              " 'kidnapped': 191,\n",
              " 'by': 192,\n",
              " 'armed': 193,\n",
              " 'militants': 194,\n",
              " 'during': 195,\n",
              " 'raid': 196,\n",
              " 'boat': 197,\n",
              " 'Nigeria': 198,\n",
              " 'oil-rich': 199,\n",
              " 'Delta': 200,\n",
              " 'region': 201,\n",
              " 'An': 202,\n",
              " 'official': 203,\n",
              " 'German': 204,\n",
              " 'firm': 205,\n",
              " 'Bilfinger': 206,\n",
              " 'Berger': 207,\n",
              " 'Thomas': 208,\n",
              " 'Horbach': 209,\n",
              " 'gunmen': 210,\n",
              " 'stopped': 211,\n",
              " 'supply': 212,\n",
              " 'sailed': 213,\n",
              " 'State': 214,\n",
              " 'Bayelsa': 215,\n",
              " 'inspect': 216,\n",
              " 'offshore': 217,\n",
              " 'field': 218,\n",
              " 'owned': 219,\n",
              " 'Royal-Dutch': 220,\n",
              " 'Shell': 221,\n",
              " 'works': 222,\n",
              " 'sub-contractor': 223,\n",
              " 'for': 224,\n",
              " 'Militant': 225,\n",
              " 'groups': 226,\n",
              " 'frequently': 227,\n",
              " 'attack': 228,\n",
              " 'operations': 229,\n",
              " 'Niger': 230,\n",
              " 'social': 231,\n",
              " 'services': 232,\n",
              " 'better': 233,\n",
              " 'job': 234,\n",
              " 'opportunities': 235,\n",
              " 'multinational': 236,\n",
              " 'companies': 237,\n",
              " 'Poor': 238,\n",
              " 'residents': 239,\n",
              " 'often': 240,\n",
              " 'complain': 241,\n",
              " 'been': 242,\n",
              " 'cheated': 243,\n",
              " 'out': 244,\n",
              " 'huge': 245,\n",
              " 'riches': 246,\n",
              " 'extracted': 247,\n",
              " 'their': 248,\n",
              " 'tribal': 249,\n",
              " 'lands': 250,\n",
              " '-': 251,\n",
              " 'where': 252,\n",
              " 'bulk': 253,\n",
              " '2.3': 254,\n",
              " 'million': 255,\n",
              " 'barrels': 256,\n",
              " 'petroleum': 257,\n",
              " 'pumped': 258,\n",
              " 'daily': 259,\n",
              " 'Suspected': 260,\n",
              " 'Islamist': 261,\n",
              " 'rebels': 262,\n",
              " 'fired': 263,\n",
              " 'mortar': 264,\n",
              " 'shells': 265,\n",
              " 'palace': 266,\n",
              " 'used': 267,\n",
              " 'Somalia': 268,\n",
              " 'interim': 269,\n",
              " 'Abdullahi': 270,\n",
              " 'Yusuf': 271,\n",
              " 'Ahmad': 272,\n",
              " 'It': 273,\n",
              " 'not': 274,\n",
              " 'immediately': 275,\n",
              " 'clear': 276,\n",
              " 'president': 277,\n",
              " 'Mogadishu': 278,\n",
              " 'when': 279,\n",
              " 'occurred': 280,\n",
              " 'or': 281,\n",
              " 'anyone': 282,\n",
              " 'hurt': 283,\n",
              " 'Local': 284,\n",
              " 'news': 285,\n",
              " 'reports': 286,\n",
              " 'least': 287,\n",
              " 'five': 288,\n",
              " 'hit': 289,\n",
              " 'compound': 290,\n",
              " 'mortars': 291,\n",
              " 'elsewhere': 292,\n",
              " 'attacks': 293,\n",
              " 'government': 294,\n",
              " 'go': 295,\n",
              " 'reconciliation': 296,\n",
              " 'more': 297,\n",
              " 'than': 298,\n",
              " '1,300': 299,\n",
              " 'Somali': 300,\n",
              " 'elders': 301,\n",
              " 'warlords': 302,\n",
              " 'politicians': 303,\n",
              " 'invited': 304,\n",
              " 'Iraqi': 305,\n",
              " 'military': 306,\n",
              " 'tanks': 307,\n",
              " 'arrived': 308,\n",
              " 'northern': 309,\n",
              " 'city': 310,\n",
              " 'Mosul': 311,\n",
              " 'offensive': 312,\n",
              " 'against': 313,\n",
              " 'al': 314,\n",
              " 'Qaida': 315,\n",
              " 'fighters': 316,\n",
              " 'Officials': 317,\n",
              " 'many': 318,\n",
              " 'Sunni': 319,\n",
              " 'Arab': 320,\n",
              " 'Kurdish': 321,\n",
              " 'bombings': 322,\n",
              " 'last': 323,\n",
              " '34': 324,\n",
              " 'people': 325,\n",
              " 'wounded': 326,\n",
              " '200': 327,\n",
              " 'commanders': 328,\n",
              " 'explained': 329,\n",
              " 'American': 330,\n",
              " 'forces': 331,\n",
              " 'participate': 332,\n",
              " 'fled': 333,\n",
              " 'successful': 334,\n",
              " 'campaigns': 335,\n",
              " 'them': 336,\n",
              " 'Anbar': 337,\n",
              " 'province': 338,\n",
              " 'Baghdad': 339,\n",
              " 'provinces': 340,\n",
              " 'largest': 341,\n",
              " 'north': 342,\n",
              " 'long': 343,\n",
              " 'stronghold': 344,\n",
              " 'militant': 345,\n",
              " 'In': 346,\n",
              " 'violence': 347,\n",
              " 'one': 348,\n",
              " 'soldier': 349,\n",
              " 'patrol': 350,\n",
              " 'Sunday': 351,\n",
              " 'Egyptian': 352,\n",
              " 'police': 353,\n",
              " 'arrested': 354,\n",
              " '16': 355,\n",
              " 'members': 356,\n",
              " 'opposition': 357,\n",
              " 'Muslim': 358,\n",
              " 'Brotherhood': 359,\n",
              " 'prepare': 360,\n",
              " 'parliamentary': 361,\n",
              " 'runoff': 362,\n",
              " 'elections': 363,\n",
              " 'Saturday': 364,\n",
              " 'arrests': 365,\n",
              " 'Friday': 366,\n",
              " 'Alexandria': 367,\n",
              " 'A': 368,\n",
              " 'spokesman': 369,\n",
              " 'attempt': 370,\n",
              " 'cut': 371,\n",
              " 'off': 372,\n",
              " 'supporters': 373,\n",
              " 'punishment': 374,\n",
              " 'winning': 375,\n",
              " 'seats': 376,\n",
              " 'earlier': 377,\n",
              " 'tripled': 378,\n",
              " 'strength': 379,\n",
              " 'parliament': 380,\n",
              " 'recent': 381,\n",
              " 'raising': 382,\n",
              " 'total': 383,\n",
              " '47': 384,\n",
              " 'voters': 385,\n",
              " 'cast': 386,\n",
              " 'ballots': 387,\n",
              " 'nine': 388,\n",
              " 'no': 389,\n",
              " 'candidate': 390,\n",
              " 'won': 391,\n",
              " 'majority': 392,\n",
              " 'previous': 393,\n",
              " 'round': 394,\n",
              " 'voting': 395,\n",
              " 'banned': 396,\n",
              " 'political': 397,\n",
              " 'but': 398,\n",
              " 'endorses': 399,\n",
              " 'so-called': 400,\n",
              " 'independent': 401,\n",
              " 'candidates': 402,\n",
              " 'whose': 403,\n",
              " 'allegiance': 404,\n",
              " 'known': 405,\n",
              " 'Hardline': 406,\n",
              " 'lawmakers': 407,\n",
              " 'Pakistan': 408,\n",
              " 'North': 409,\n",
              " 'West': 410,\n",
              " 'Frontier': 411,\n",
              " 'Province': 412,\n",
              " 'pushed': 413,\n",
              " 'law': 414,\n",
              " 'aims': 415,\n",
              " 'ensure': 416,\n",
              " 'Islamic': 417,\n",
              " 'correctness': 418,\n",
              " 'public': 419,\n",
              " 'places': 420,\n",
              " 'establishes': 421,\n",
              " 'morality': 422,\n",
              " 'enforce': 423,\n",
              " 'decent': 424,\n",
              " 'behavior': 425,\n",
              " 'six-party': 426,\n",
              " 'coalition': 427,\n",
              " 'religious': 428,\n",
              " 'based': 429,\n",
              " 'parties': 430,\n",
              " 'Mutahida': 431,\n",
              " 'Majlis-e-Amal': 432,\n",
              " 'dominates': 433,\n",
              " 'provincial': 434,\n",
              " 'assembly': 435,\n",
              " 'so': 436,\n",
              " 'bill': 437,\n",
              " 'easily': 438,\n",
              " 'passed': 439,\n",
              " 'Thursday': 440,\n",
              " 'vote': 441,\n",
              " '68-34': 442,\n",
              " 'governor': 443,\n",
              " 'must': 444,\n",
              " 'still': 445,\n",
              " 'sign': 446,\n",
              " 'before': 447,\n",
              " 'becomes': 448,\n",
              " 'seen': 449,\n",
              " 'only': 450,\n",
              " 'formality': 451,\n",
              " 'proposed': 452,\n",
              " 'calls': 453,\n",
              " 'setting': 454,\n",
              " 'up': 455,\n",
              " 'force': 456,\n",
              " 'make': 457,\n",
              " 'sure': 458,\n",
              " 'adhere': 459,\n",
              " 'values': 460,\n",
              " 'entertainment': 461,\n",
              " 'outlets': 462,\n",
              " 'close': 463,\n",
              " 'weekly': 464,\n",
              " 'prayers': 465,\n",
              " 'Violators': 466,\n",
              " 'be': 467,\n",
              " 'jailed': 468,\n",
              " 'six': 469,\n",
              " 'months': 470,\n",
              " 'denounced': 471,\n",
              " 'measure': 472,\n",
              " 'comparing': 473,\n",
              " 'draconian': 474,\n",
              " 'rule': 475,\n",
              " 'former': 476,\n",
              " 'Taleban': 477,\n",
              " 'neighboring': 478,\n",
              " 'Afghanistan': 479,\n",
              " 'man': 480,\n",
              " 'dressed': 481,\n",
              " 'suicide': 482,\n",
              " 'bomber': 483,\n",
              " 'demonstration': 484,\n",
              " 'publication': 485,\n",
              " 'cartoons': 486,\n",
              " 'depicting': 487,\n",
              " 'Islam': 488,\n",
              " 'Prophet': 489,\n",
              " 'Muhammad': 490,\n",
              " 'Bedfordshire': 491,\n",
              " 'Omar': 492,\n",
              " 'Khayam': 493,\n",
              " 'Bedford': 494,\n",
              " 'breaching': 495,\n",
              " 'conditions': 496,\n",
              " 'his': 497,\n",
              " 'parole': 498,\n",
              " 'Home': 499,\n",
              " 'Office': 500,\n",
              " 'sought': 501,\n",
              " 'investigation': 502,\n",
              " 'he': 503,\n",
              " 'photographed': 504,\n",
              " 'fatigues': 505,\n",
              " 'black': 506,\n",
              " 'cap': 507,\n",
              " 'bulky': 508,\n",
              " 'belt': 509,\n",
              " 'told': 510,\n",
              " 'Associated': 511,\n",
              " 'Press': 512,\n",
              " 'paroled': 513,\n",
              " 'offender': 514,\n",
              " 'gives': 515,\n",
              " 'cause': 516,\n",
              " 'concern': 517,\n",
              " 'can': 518,\n",
              " 'sent': 519,\n",
              " 'back': 520,\n",
              " 'prison': 521,\n",
              " 'AP': 522,\n",
              " 'also': 523,\n",
              " 'since': 524,\n",
              " 'year': 525,\n",
              " 'serving': 526,\n",
              " 'half': 527,\n",
              " 'six-year': 528,\n",
              " 'sentence': 529,\n",
              " 'drug': 530,\n",
              " 'dealing': 531,\n",
              " 'Pakistani': 532,\n",
              " 'unidentified': 533,\n",
              " 'three': 534,\n",
              " 'minister': 535,\n",
              " 'semi-autonomous': 536,\n",
              " 'bordering': 537,\n",
              " 'prominent': 538,\n",
              " 'leader': 539,\n",
              " 'Malik': 540,\n",
              " 'Faridullah': 541,\n",
              " 'Khan': 542,\n",
              " 'traveling': 543,\n",
              " 'South': 544,\n",
              " 'Waziristan': 545,\n",
              " 'vehicle': 546,\n",
              " 'ambushed': 547,\n",
              " 'Kani': 548,\n",
              " 'Wam': 549,\n",
              " 'area': 550,\n",
              " 'His': 551,\n",
              " 'driver': 552,\n",
              " 'elder': 553,\n",
              " 'No': 554,\n",
              " 'responsibility': 555,\n",
              " 'killings': 556,\n",
              " 'ambush': 557,\n",
              " 'commander': 558,\n",
              " 'army': 559,\n",
              " 'almost': 560,\n",
              " 'completely': 561,\n",
              " 'eliminated': 562,\n",
              " 'became': 563,\n",
              " 'refuge': 564,\n",
              " 'al-Qaida': 565,\n",
              " 'ousted': 566,\n",
              " '2001': 567,\n",
              " 'senior': 568,\n",
              " 'says': 569,\n",
              " 'wants': 570,\n",
              " 'what': 571,\n",
              " 'sordid': 572,\n",
              " 'chapter': 573,\n",
              " 'proliferation': 574,\n",
              " 'top': 575,\n",
              " 'scientists': 576,\n",
              " 'behind': 577,\n",
              " 'build': 578,\n",
              " 'civilian': 579,\n",
              " 'ties': 580,\n",
              " 'United': 581,\n",
              " 'States': 582,\n",
              " 'But': 583,\n",
              " 'ready': 584,\n",
              " 'scientist': 585,\n",
              " 'Abdul': 586,\n",
              " 'Qadeer': 587,\n",
              " 'available': 588,\n",
              " 'direct': 589,\n",
              " 'questioning': 590,\n",
              " 'sale': 591,\n",
              " 'secrets': 592,\n",
              " 'states': 593,\n",
              " 'Libya': 594,\n",
              " 'Korea': 595,\n",
              " 'He': 596,\n",
              " 'there': 597,\n",
              " 'reasons': 598,\n",
              " 'national': 599,\n",
              " 'sensitivities': 600,\n",
              " 'making': 601,\n",
              " 'him': 602,\n",
              " 'giving': 603,\n",
              " 'background': 604,\n",
              " 'briefing': 605,\n",
              " 'small': 606,\n",
              " 'group': 607,\n",
              " 'reporters': 608,\n",
              " 'Washington': 609,\n",
              " 'admitted': 610,\n",
              " '2004': 611,\n",
              " 'operated': 612,\n",
              " 'worldwide': 613,\n",
              " 'clandestine': 614,\n",
              " 'network': 615,\n",
              " 'sell': 616,\n",
              " 'technology': 617,\n",
              " 'market': 618,\n",
              " 'placed': 619,\n",
              " 'under': 620,\n",
              " 'house': 621,\n",
              " 'arrest': 622,\n",
              " 'Islamabad': 623,\n",
              " 'because': 624,\n",
              " 'considered': 625,\n",
              " 'father': 626,\n",
              " 'bomb': 627,\n",
              " 'Army': 628,\n",
              " 'renew': 629,\n",
              " 'controversial': 630,\n",
              " 'multi-billion': 631,\n",
              " 'dollar': 632,\n",
              " 'contract': 633,\n",
              " 'Halliburton': 634,\n",
              " 'company': 635,\n",
              " 'provide': 636,\n",
              " 'logistical': 637,\n",
              " 'support': 638,\n",
              " 'providing': 639,\n",
              " 'list': 640,\n",
              " 'meals': 641,\n",
              " 'communication': 642,\n",
              " 'several': 643,\n",
              " 'years': 644,\n",
              " 'Critics': 645,\n",
              " 'include': 646,\n",
              " 'auditors': 647,\n",
              " 'congressional': 648,\n",
              " 'Democrats': 649,\n",
              " 'produced': 650,\n",
              " 'some': 651,\n",
              " 'shoddy': 652,\n",
              " 'work': 653,\n",
              " 'charges': 654,\n",
              " 'too': 655,\n",
              " 'much': 656,\n",
              " 'money': 657,\n",
              " 'strongly': 658,\n",
              " 'denies': 659,\n",
              " 'allegations': 660,\n",
              " 'When': 661,\n",
              " 're-bidding': 662,\n",
              " 'chance': 663,\n",
              " 'compete': 664,\n",
              " 'portions': 665,\n",
              " 'Representatives': 666,\n",
              " 'Asia': 667,\n",
              " 'Pacific': 668,\n",
              " 'Economic': 669,\n",
              " 'Cooperation': 670,\n",
              " 'Business': 671,\n",
              " 'Advisory': 672,\n",
              " 'holding': 673,\n",
              " 'meetings': 674,\n",
              " 'finalize': 675,\n",
              " 'report': 676,\n",
              " 'APEC': 677,\n",
              " 'leaders': 678,\n",
              " 'summit': 679,\n",
              " 'September': 680,\n",
              " '8': 681,\n",
              " '9': 682,\n",
              " 'VOA': 683,\n",
              " 'Nancy-Amelia': 684,\n",
              " 'Collins': 685,\n",
              " 'Sydney': 686,\n",
              " 'security': 687,\n",
              " 'climate': 688,\n",
              " 'change': 689,\n",
              " 'World': 690,\n",
              " 'Trade': 691,\n",
              " 'Organization': 692,\n",
              " 'stalled': 693,\n",
              " 'negotiations': 694,\n",
              " 'investment': 695,\n",
              " 'all': 696,\n",
              " 'expected': 697,\n",
              " 'among': 698,\n",
              " 'major': 699,\n",
              " 'topics': 700,\n",
              " 'ABAC': 701,\n",
              " 'Tim': 702,\n",
              " 'Harcourt': 703,\n",
              " 'chief': 704,\n",
              " 'economist': 705,\n",
              " 'Australian': 706,\n",
              " 'Commission': 707,\n",
              " 'plays': 708,\n",
              " 'important': 709,\n",
              " 'role': 710,\n",
              " 'informing': 711,\n",
              " 'governments': 712,\n",
              " 'problems': 713,\n",
              " 'most': 714,\n",
              " 'thing': 715,\n",
              " 'business': 716,\n",
              " 'do': 717,\n",
              " 'tell': 718,\n",
              " 'logjams': 719,\n",
              " 'obstacles': 720,\n",
              " 'things': 721,\n",
              " 'improve': 722,\n",
              " 'I': 723,\n",
              " 'think': 724,\n",
              " 'actually': 725,\n",
              " 'played': 726,\n",
              " 'pretty': 727,\n",
              " 'good': 728,\n",
              " 'leadership': 729,\n",
              " 'talking': 730,\n",
              " 'about': 731,\n",
              " 'trade': 732,\n",
              " 'facilitation': 733,\n",
              " 'basically': 734,\n",
              " 'standards': 735,\n",
              " 'consistent': 736,\n",
              " 'harmonious': 737,\n",
              " 'across': 738,\n",
              " 'comprises': 739,\n",
              " 'private': 740,\n",
              " 'sector': 741,\n",
              " 'each': 742,\n",
              " '21': 743,\n",
              " 'economies': 744,\n",
              " 'meets': 745,\n",
              " 'times': 746,\n",
              " 'made': 747,\n",
              " 'permanent': 748,\n",
              " 'body': 749,\n",
              " '1995': 750,\n",
              " 'perspective': 751,\n",
              " 'within': 752,\n",
              " 'Members': 753,\n",
              " 'represent': 754,\n",
              " 'range': 755,\n",
              " 'sectors': 756,\n",
              " 'medium': 757,\n",
              " 'businesses': 758,\n",
              " 'need': 759,\n",
              " 'energy': 760,\n",
              " 'efficiency': 761,\n",
              " 'encourage': 762,\n",
              " 'conservation': 763,\n",
              " 'practices': 764,\n",
              " 'discuss': 765,\n",
              " 'ways': 766,\n",
              " 'enhance': 767,\n",
              " 'regional': 768,\n",
              " 'cooperation': 769,\n",
              " 'reckon': 770,\n",
              " \"'ll\": 771,\n",
              " 'talk': 772,\n",
              " 'little': 773,\n",
              " 'bit': 774,\n",
              " 'customs': 775,\n",
              " 'quarantine': 776,\n",
              " 'having': 777,\n",
              " 'arrangements': 778,\n",
              " 'around': 779,\n",
              " 'And': 780,\n",
              " 'want': 781,\n",
              " 'one-stop': 782,\n",
              " 'shop': 783,\n",
              " 'terms': 784,\n",
              " 'combining': 785,\n",
              " 'immigration': 786,\n",
              " 'together': 787,\n",
              " '\\x85': 788,\n",
              " 'just': 789,\n",
              " 'streamlined': 790,\n",
              " 'provides': 791,\n",
              " 'certainty': 792,\n",
              " 'non-governmental': 793,\n",
              " 'formal': 794,\n",
              " 'dialogue': 795,\n",
              " 'present': 796,\n",
              " 'meeting': 797,\n",
              " 'Sudan': 798,\n",
              " 'order': 799,\n",
              " 'Darfur': 800,\n",
              " 'asking': 801,\n",
              " 'same': 802,\n",
              " 'Foreign': 803,\n",
              " 'Minister': 804,\n",
              " 'Mustafa': 805,\n",
              " 'Osman': 806,\n",
              " 'Ismail': 807,\n",
              " 'Sudanese': 808,\n",
              " 'withdraw': 809,\n",
              " 'positions': 810,\n",
              " 'held': 811,\n",
              " 'April': 812,\n",
              " 'cease-fire': 813,\n",
              " 'western': 814,\n",
              " 'agree': 815,\n",
              " 'stop': 816,\n",
              " 'Mr.': 817,\n",
              " 'announced': 818,\n",
              " 'decision': 819,\n",
              " 'Nations': 820,\n",
              " 'African': 821,\n",
              " 'Khartoum': 822,\n",
              " 'weeks': 823,\n",
              " 'AU': 824,\n",
              " 'repeatedly': 825,\n",
              " 'truce': 826,\n",
              " 'head': 827,\n",
              " 'accused': 828,\n",
              " 'helicopters': 829,\n",
              " 'bombing': 830,\n",
              " 'rebel': 831,\n",
              " 'sites': 832,\n",
              " 'village': 833,\n",
              " 'Labado': 834,\n",
              " 'defending': 835,\n",
              " 'Aid': 836,\n",
              " 'relief': 837,\n",
              " 'efforts': 838,\n",
              " 'suspended': 839,\n",
              " 'due': 840,\n",
              " 'Indonesian': 841,\n",
              " 'men': 842,\n",
              " 'connection': 843,\n",
              " 'October': 844,\n",
              " '1': 845,\n",
              " 'Bali': 846,\n",
              " 'left': 847,\n",
              " '23': 848,\n",
              " 'dead': 849,\n",
              " 'flown': 850,\n",
              " 'Java': 851,\n",
              " 'island': 852,\n",
              " 'headquarters': 853,\n",
              " 'French': 854,\n",
              " 'agencies': 855,\n",
              " '(': 856,\n",
              " 'Cholily': 857,\n",
              " ')': 858,\n",
              " 'captured': 859,\n",
              " 'series': 860,\n",
              " 'counter-terrorism': 861,\n",
              " 'raids': 862,\n",
              " 'Indonesia': 863,\n",
              " 'ended': 864,\n",
              " 'death': 865,\n",
              " 'alleged': 866,\n",
              " 'extremist': 867,\n",
              " 'bombmaker': 868,\n",
              " 'Azahari': 869,\n",
              " 'bin': 870,\n",
              " 'Husin': 871,\n",
              " 'authorities': 872,\n",
              " 'blame': 873,\n",
              " 'orchestrating': 874,\n",
              " 'month': 875,\n",
              " 'well': 876,\n",
              " '2002': 877,\n",
              " 'Gunmen': 878,\n",
              " 'shot': 879,\n",
              " 'Roman': 880,\n",
              " 'Catholic': 881,\n",
              " 'nun': 882,\n",
              " 'her': 883,\n",
              " 'bodyguard': 884,\n",
              " 'hospital': 885,\n",
              " 'she': 886,\n",
              " 'worked': 887,\n",
              " 'Islamist-controlled': 888,\n",
              " 'Some': 889,\n",
              " 'witnesses': 890,\n",
              " 'shooting': 891,\n",
              " 'feared': 892,\n",
              " 'linked': 893,\n",
              " 'anger': 894,\n",
              " 'toward': 895,\n",
              " 'Pope': 896,\n",
              " 'Benedict': 897,\n",
              " 'pistols': 898,\n",
              " 'attacked': 899,\n",
              " 'Sister': 900,\n",
              " 'Leonella': 901,\n",
              " 'Sgorbati': 902,\n",
              " 'finished': 903,\n",
              " 'teaching': 904,\n",
              " 'medical': 905,\n",
              " 'school': 906,\n",
              " 'class': 907,\n",
              " 'suspect': 908,\n",
              " 'Vatican': 909,\n",
              " 'deplored': 910,\n",
              " 'hoped': 911,\n",
              " 'isolated': 912,\n",
              " 'event': 913,\n",
              " 'irrationality': 914,\n",
              " 'arising': 915,\n",
              " 'comments': 916,\n",
              " 'angered': 917,\n",
              " 'Muslims': 918,\n",
              " 'Authorities': 919,\n",
              " 'determined': 920,\n",
              " 'motive': 921,\n",
              " 'pope': 922,\n",
              " 'meant': 923,\n",
              " 'offense': 924,\n",
              " 'quoted': 925,\n",
              " '14': 926,\n",
              " 'century': 927,\n",
              " 'Byzantine': 928,\n",
              " 'emperor': 929,\n",
              " 'saying': 930,\n",
              " 'teachings': 931,\n",
              " 'Muhammed': 932,\n",
              " 'brought': 933,\n",
              " 'evil': 934,\n",
              " 'world': 935,\n",
              " 'targeted': 936,\n",
              " 'northwest': 937,\n",
              " 'third': 938,\n",
              " 'launching': 939,\n",
              " 'airstrikes': 940,\n",
              " 'suspected': 941,\n",
              " 'insurgents': 942,\n",
              " 'Helicopter': 943,\n",
              " 'gunships': 944,\n",
              " 'pounded': 945,\n",
              " 'hideouts': 946,\n",
              " 'Orakzai': 947,\n",
              " 'Taliban': 948,\n",
              " 'believed': 949,\n",
              " 'avoid': 950,\n",
              " 'nearby': 951,\n",
              " 'launched': 952,\n",
              " 'hunt': 953,\n",
              " 'So': 954,\n",
              " 'far': 955,\n",
              " 'nearly': 956,\n",
              " '100': 957,\n",
              " 'reported': 958,\n",
              " 'On': 959,\n",
              " 'dozens': 960,\n",
              " 'stormed': 961,\n",
              " 'checkpoint': 962,\n",
              " 'At': 963,\n",
              " '32': 964,\n",
              " 'counter-attack': 965,\n",
              " 'Elsewhere': 966,\n",
              " 'found': 967,\n",
              " 'bodies': 968,\n",
              " 'had': 969,\n",
              " 'Kurram': 970,\n",
              " 'along': 971,\n",
              " 'Afghan': 972,\n",
              " 'border': 973,\n",
              " 'few': 974,\n",
              " 'days': 975,\n",
              " 'ago': 976,\n",
              " 'separate': 977,\n",
              " 'clashes': 978,\n",
              " '13': 979,\n",
              " 'guerrillas': 980,\n",
              " 'two': 981,\n",
              " 'encounters': 982,\n",
              " 'central': 983,\n",
              " 'Uruzgan': 984,\n",
              " 'others': 985,\n",
              " 'injured': 986,\n",
              " 'fighting': 987,\n",
              " 'Another': 988,\n",
              " 'eastern': 989,\n",
              " 'Paktika': 990,\n",
              " 'Separately': 991,\n",
              " 'NATO-led': 992,\n",
              " 'peacekeeping': 993,\n",
              " 'mission': 994,\n",
              " 'early': 995,\n",
              " 'Mazar-e-Sharif': 996,\n",
              " 'motivated': 997,\n",
              " 'spared': 998,\n",
              " 'bloodshed': 999,\n",
              " 'plagued': 1000,\n",
              " ...}"
            ]
          },
          "metadata": {},
          "execution_count": 18
        }
      ]
    },
    {
      "cell_type": "code",
      "source": [
        "tag2idx"
      ],
      "metadata": {
        "id": "3NjwbR3JxjsO",
        "colab": {
          "base_uri": "https://localhost:8080/"
        },
        "outputId": "ca49d374-702a-40a9-a8ef-77bb1c43b50e"
      },
      "execution_count": null,
      "outputs": [
        {
          "output_type": "execute_result",
          "data": {
            "text/plain": [
              "{'O': 0,\n",
              " 'B-geo': 1,\n",
              " 'B-gpe': 2,\n",
              " 'B-per': 3,\n",
              " 'I-geo': 4,\n",
              " 'B-org': 5,\n",
              " 'I-org': 6,\n",
              " 'B-tim': 7,\n",
              " 'B-art': 8,\n",
              " 'I-art': 9,\n",
              " 'I-per': 10,\n",
              " 'I-gpe': 11,\n",
              " 'I-tim': 12,\n",
              " 'B-nat': 13,\n",
              " 'B-eve': 14,\n",
              " 'I-eve': 15,\n",
              " 'I-nat': 16}"
            ]
          },
          "metadata": {},
          "execution_count": 19
        }
      ]
    },
    {
      "cell_type": "code",
      "source": [
        "plt.hist([len(s) for s in sentences], bins=50)\n",
        "plt.show()"
      ],
      "metadata": {
        "id": "t2qVRvVuxsH-",
        "colab": {
          "base_uri": "https://localhost:8080/",
          "height": 265
        },
        "outputId": "f432444c-66ff-43f5-ca96-8580e4188d5a"
      },
      "execution_count": null,
      "outputs": [
        {
          "output_type": "display_data",
          "data": {
            "text/plain": [
              "<Figure size 432x288 with 1 Axes>"
            ],
            "image/png": "[encoded data removed]"
          },
          "metadata": {
            "needs_background": "light"
          }
        }
      ]
    },
    {
      "cell_type": "code",
      "source": [
        "X1 = [[word2idx[w[0]] for w in s] for s in sentences]"
      ],
      "metadata": {
        "id": "OxiZjIPvyrbu"
      },
      "execution_count": null,
      "outputs": []
    },
    {
      "cell_type": "code",
      "source": [
        "type(X1[0])"
      ],
      "metadata": {
        "id": "HIrDysBvytG-",
        "colab": {
          "base_uri": "https://localhost:8080/"
        },
        "outputId": "8d68dfd2-d09f-4d65-df96-f2994d142ed5"
      },
      "execution_count": null,
      "outputs": [
        {
          "output_type": "execute_result",
          "data": {
            "text/plain": [
              "list"
            ]
          },
          "metadata": {},
          "execution_count": 22
        }
      ]
    },
    {
      "cell_type": "code",
      "source": [
        "X1[0]"
      ],
      "metadata": {
        "id": "nvW4Yg2fy2I2",
        "colab": {
          "base_uri": "https://localhost:8080/"
        },
        "outputId": "490bf392-4212-4e45-de71-33bd2b5d939a"
      },
      "execution_count": null,
      "outputs": [
        {
          "output_type": "execute_result",
          "data": {
            "text/plain": [
              "[1,\n",
              " 2,\n",
              " 3,\n",
              " 4,\n",
              " 5,\n",
              " 6,\n",
              " 7,\n",
              " 8,\n",
              " 9,\n",
              " 10,\n",
              " 11,\n",
              " 12,\n",
              " 13,\n",
              " 14,\n",
              " 15,\n",
              " 10,\n",
              " 16,\n",
              " 2,\n",
              " 17,\n",
              " 18,\n",
              " 19,\n",
              " 20,\n",
              " 21,\n",
              " 22]"
            ]
          },
          "metadata": {},
          "execution_count": 23
        }
      ]
    },
    {
      "cell_type": "code",
      "source": [
        "max_len = 50"
      ],
      "metadata": {
        "id": "dXiZQT9oyn7e"
      },
      "execution_count": null,
      "outputs": []
    },
    {
      "cell_type": "markdown",
      "source": [
        "# **pad_sequences example**"
      ],
      "metadata": {
        "id": "eeYbmbt_zfIp"
      }
    },
    {
      "cell_type": "code",
      "source": [
        "nums = [[1], [2, 3], [4, 5, 6]]\n",
        "sequence.pad_sequences(nums)"
      ],
      "metadata": {
        "id": "T52hHPfbznyl",
        "colab": {
          "base_uri": "https://localhost:8080/"
        },
        "outputId": "16ab01e7-14c7-4bea-e0b7-801367e0f10b"
      },
      "execution_count": null,
      "outputs": [
        {
          "output_type": "execute_result",
          "data": {
            "text/plain": [
              "array([[0, 0, 1],\n",
              "       [0, 2, 3],\n",
              "       [4, 5, 6]], dtype=int32)"
            ]
          },
          "metadata": {},
          "execution_count": 25
        }
      ]
    },
    {
      "cell_type": "code",
      "source": [
        "nums = [[1], [2, 3], [4, 5, 6]]\n",
        "sequence.pad_sequences(nums,maxlen=2)"
      ],
      "metadata": {
        "id": "ZM9JwHM92FTs",
        "colab": {
          "base_uri": "https://localhost:8080/"
        },
        "outputId": "65b568a5-df8f-4c78-cb42-248bd00ed1fe"
      },
      "execution_count": null,
      "outputs": [
        {
          "output_type": "execute_result",
          "data": {
            "text/plain": [
              "array([[0, 1],\n",
              "       [2, 3],\n",
              "       [5, 6]], dtype=int32)"
            ]
          },
          "metadata": {},
          "execution_count": 26
        }
      ]
    },
    {
      "cell_type": "code",
      "source": [
        "X = sequence.pad_sequences(maxlen=max_len,\n",
        "                  sequences=X1, padding=\"post\",\n",
        "                  value=num_words-1)"
      ],
      "metadata": {
        "id": "xOn14Tb50NgO"
      },
      "execution_count": null,
      "outputs": []
    },
    {
      "cell_type": "code",
      "source": [
        "X[1]"
      ],
      "metadata": {
        "id": "TG-20fXZ0pU0",
        "colab": {
          "base_uri": "https://localhost:8080/"
        },
        "outputId": "4b834ef4-ce49-4dc3-9eab-b8f28e67a983"
      },
      "execution_count": null,
      "outputs": [
        {
          "output_type": "execute_result",
          "data": {
            "text/plain": [
              "array([  125,   126,   127,   128,   129,     8,   130,   131,     8,\n",
              "         132,   133,   119,     2,    10,   124,   108,    94,   134,\n",
              "         135,   136,   137,   138,   139,   140,    22, 35178, 35178,\n",
              "       35178, 35178, 35178, 35178, 35178, 35178, 35178, 35178, 35178,\n",
              "       35178, 35178, 35178, 35178, 35178, 35178, 35178, 35178, 35178,\n",
              "       35178, 35178, 35178, 35178, 35178], dtype=int32)"
            ]
          },
          "metadata": {},
          "execution_count": 35
        }
      ]
    },
    {
      "cell_type": "code",
      "source": [
        "tag2idx"
      ],
      "metadata": {
        "id": "zfDXis54fZVb",
        "colab": {
          "base_uri": "https://localhost:8080/"
        },
        "outputId": "8972a502-1462-46e4-970d-41093f0d5359"
      },
      "execution_count": null,
      "outputs": [
        {
          "output_type": "execute_result",
          "data": {
            "text/plain": [
              "{'O': 0,\n",
              " 'B-geo': 1,\n",
              " 'B-gpe': 2,\n",
              " 'B-per': 3,\n",
              " 'I-geo': 4,\n",
              " 'B-org': 5,\n",
              " 'I-org': 6,\n",
              " 'B-tim': 7,\n",
              " 'B-art': 8,\n",
              " 'I-art': 9,\n",
              " 'I-per': 10,\n",
              " 'I-gpe': 11,\n",
              " 'I-tim': 12,\n",
              " 'B-nat': 13,\n",
              " 'B-eve': 14,\n",
              " 'I-eve': 15,\n",
              " 'I-nat': 16}"
            ]
          },
          "metadata": {},
          "execution_count": 29
        }
      ]
    },
    {
      "cell_type": "code",
      "source": [
        "y1 = [[tag2idx[w[2]] for w in s] for s in sentences]"
      ],
      "metadata": {
        "id": "xPvWZB-61ghV"
      },
      "execution_count": null,
      "outputs": []
    },
    {
      "cell_type": "code",
      "source": [
        "y1[0]"
      ],
      "metadata": {
        "colab": {
          "base_uri": "https://localhost:8080/"
        },
        "id": "RyHFxTPqfZl6",
        "outputId": "b14a5510-5402-4609-bf7c-ae44f9ddf99d"
      },
      "execution_count": null,
      "outputs": [
        {
          "output_type": "execute_result",
          "data": {
            "text/plain": [
              "[0, 0, 0, 0, 0, 0, 1, 0, 0, 0, 0, 0, 1, 0, 0, 0, 0, 0, 2, 0, 0, 0, 0, 0]"
            ]
          },
          "metadata": {},
          "execution_count": 31
        }
      ]
    },
    {
      "cell_type": "code",
      "source": [
        "y = sequence.pad_sequences(maxlen=max_len,\n",
        "                  sequences=y1,\n",
        "                  padding=\"post\",\n",
        "                  value=tag2idx[\"O\"])"
      ],
      "metadata": {
        "id": "wST3Nrkp1k3s"
      },
      "execution_count": null,
      "outputs": []
    },
    {
      "cell_type": "code",
      "source": [
        "X_train, X_test, y_train, y_test = train_test_split(X, y,\n",
        "                                                    test_size=0.2, random_state=1)"
      ],
      "metadata": {
        "id": "t23QC8Yj2eTV"
      },
      "execution_count": null,
      "outputs": []
    },
    {
      "cell_type": "code",
      "source": [
        "X_train[7]"
      ],
      "metadata": {
        "id": "uaWPtQJ04V7T",
        "colab": {
          "base_uri": "https://localhost:8080/"
        },
        "outputId": "2347812c-0c3c-4bb5-cbef-f71c9c5ebbf2"
      },
      "execution_count": null,
      "outputs": [
        {
          "output_type": "execute_result",
          "data": {
            "text/plain": [
              "array([ 1522,   353,   127,   627,  2490,  2277,   981, 10943, 22869,\n",
              "          12,  1381,  7146,     4,   986,   731,  1058,   325,    22,\n",
              "       35178, 35178, 35178, 35178, 35178, 35178, 35178, 35178, 35178,\n",
              "       35178, 35178, 35178, 35178, 35178, 35178, 35178, 35178, 35178,\n",
              "       35178, 35178, 35178, 35178, 35178, 35178, 35178, 35178, 35178,\n",
              "       35178, 35178, 35178, 35178, 35178], dtype=int32)"
            ]
          },
          "metadata": {},
          "execution_count": 38
        }
      ]
    },
    {
      "cell_type": "code",
      "source": [
        "y_train[0]"
      ],
      "metadata": {
        "id": "dPDp3MNr4ZRs",
        "colab": {
          "base_uri": "https://localhost:8080/"
        },
        "outputId": "41f7e11c-e5f2-4ac9-a190-992e9971e25c"
      },
      "execution_count": null,
      "outputs": [
        {
          "output_type": "execute_result",
          "data": {
            "text/plain": [
              "array([0, 0, 0, 0, 1, 4, 0, 0, 0, 0, 1, 0, 0, 0, 0, 0, 0, 5, 6, 0, 0, 1,\n",
              "       0, 0, 0, 0, 0, 0, 0, 0, 0, 0, 0, 0, 0, 0, 0, 0, 0, 0, 0, 0, 0, 0,\n",
              "       0, 0, 0, 0, 0, 0], dtype=int32)"
            ]
          },
          "metadata": {},
          "execution_count": 39
        }
      ]
    },
    {
      "cell_type": "code",
      "source": [
        "input_word = layers.Input(shape=(max_len,))\n",
        "embedding_layer=layers.Embedding(input_dim=num_words,output_dim=50,input_length=max_len)(input_word)\n",
        "dropout_layer=layers.SpatialDropout1D(0.1)(embedding_layer)\n",
        "bidirectional_lstm=layers.Bidirectional(\n",
        "    layers.LSTM(units=100,return_sequences=True,\n",
        "                recurrent_dropout=0.1))(dropout_layer)\n",
        "output=layers.TimeDistributed(\n",
        "      layers.Dense(num_tags,activation=\"softmax\"))(bidirectional_lstm)\n",
        "model = Model(input_word, output)"
      ],
      "metadata": {
        "id": "DgIT1Dox5Uo1",
        "colab": {
          "base_uri": "https://localhost:8080/"
        },
        "outputId": "d7c141a5-64ab-4165-ccf1-b02c932944d3"
      },
      "execution_count": null,
      "outputs": [
        {
          "output_type": "stream",
          "name": "stderr",
          "text": [
            "WARNING:tensorflow:Layer lstm will not use cuDNN kernels since it doesn't meet the criteria. It will use a generic GPU kernel as fallback when running on GPU.\n",
            "WARNING:tensorflow:Layer lstm will not use cuDNN kernels since it doesn't meet the criteria. It will use a generic GPU kernel as fallback when running on GPU.\n",
            "WARNING:tensorflow:Layer lstm will not use cuDNN kernels since it doesn't meet the criteria. It will use a generic GPU kernel as fallback when running on GPU.\n"
          ]
        }
      ]
    },
    {
      "cell_type": "code",
      "source": [
        "model.summary()"
      ],
      "metadata": {
        "id": "EFYOj10v6-YU",
        "colab": {
          "base_uri": "https://localhost:8080/"
        },
        "outputId": "b1dbfce9-d96e-402c-96fb-c11343691d07"
      },
      "execution_count": null,
      "outputs": [
        {
          "output_type": "stream",
          "name": "stdout",
          "text": [
            "Model: \"model\"\n",
            "_________________________________________________________________\n",
            " Layer (type)                Output Shape              Param #   \n",
            "=================================================================\n",
            " input_1 (InputLayer)        [(None, 50)]              0         \n",
            "                                                                 \n",
            " embedding (Embedding)       (None, 50, 50)            1758950   \n",
            "                                                                 \n",
            " spatial_dropout1d (SpatialD  (None, 50, 50)           0         \n",
            " ropout1D)                                                       \n",
            "                                                                 \n",
            " bidirectional (Bidirectiona  (None, 50, 200)          120800    \n",
            " l)                                                              \n",
            "                                                                 \n",
            " time_distributed (TimeDistr  (None, 50, 17)           3417      \n",
            " ibuted)                                                         \n",
            "                                                                 \n",
            "=================================================================\n",
            "Total params: 1,883,167\n",
            "Trainable params: 1,883,167\n",
            "Non-trainable params: 0\n",
            "_________________________________________________________________\n"
          ]
        }
      ]
    },
    {
      "cell_type": "code",
      "source": [
        "model.compile(optimizer=\"adam\",\n",
        "              loss=\"sparse_categorical_crossentropy\",\n",
        "              metrics=[\"accuracy\"])"
      ],
      "metadata": {
        "id": "wADTzVii7jxb"
      },
      "execution_count": null,
      "outputs": []
    },
    {
      "cell_type": "code",
      "source": [
        "history = model.fit(\n",
        "    x=X_train,\n",
        "    y=y_train,\n",
        "    validation_data=(X_test,y_test),\n",
        "    batch_size=32, \n",
        "    epochs=3,\n",
        ")"
      ],
      "metadata": {
        "id": "TAgUMZ_X7oSM",
        "colab": {
          "base_uri": "https://localhost:8080/"
        },
        "outputId": "f089b433-99a0-4c06-8496-3824c51d6f30"
      },
      "execution_count": 43,
      "outputs": [
        {
          "output_type": "stream",
          "name": "stdout",
          "text": [
            "Epoch 1/3\n",
            "1199/1199 [==============================] - 401s 329ms/step - loss: 0.1787 - accuracy: 0.9587 - val_loss: 0.0663 - val_accuracy: 0.9812\n",
            "Epoch 2/3\n",
            "1199/1199 [==============================] - 390s 325ms/step - loss: 0.0504 - accuracy: 0.9851 - val_loss: 0.0510 - val_accuracy: 0.9849\n",
            "Epoch 3/3\n",
            "1199/1199 [==============================] - 391s 326ms/step - loss: 0.0372 - accuracy: 0.9886 - val_loss: 0.0481 - val_accuracy: 0.9856\n"
          ]
        }
      ]
    },
    {
      "cell_type": "code",
      "source": [
        "metrics = pd.DataFrame(model.history.history)\n",
        "metrics.head()"
      ],
      "metadata": {
        "id": "jtVPlygc85Sa",
        "colab": {
          "base_uri": "https://localhost:8080/",
          "height": 143
        },
        "outputId": "1a0b60bf-5db0-4d0b-9d8f-ebe03cca8885"
      },
      "execution_count": 44,
      "outputs": [
        {
          "output_type": "execute_result",
          "data": {
            "text/plain": [
              "       loss  accuracy  val_loss  val_accuracy\n",
              "0  0.178721  0.958685  0.066286      0.981222\n",
              "1  0.050450  0.985143  0.050959      0.984906\n",
              "2  0.037241  0.988617  0.048140      0.985603"
            ],
            "text/html": [
              "\n",
              "  <div id=\"df-e8db2229-04df-42e0-bc93-c4f2abaa0bf4\">\n",
              "    <div class=\"colab-df-container\">\n",
              "      <div>\n",
              "<style scoped>\n",
              "    .dataframe tbody tr th:only-of-type {\n",
              "        vertical-align: middle;\n",
              "    }\n",
              "\n",
              "    .dataframe tbody tr th {\n",
              "        vertical-align: top;\n",
              "    }\n",
              "\n",
              "    .dataframe thead th {\n",
              "        text-align: right;\n",
              "    }\n",
              "</style>\n",
              "<table border=\"1\" class=\"dataframe\">\n",
              "  <thead>\n",
              "    <tr style=\"text-align: right;\">\n",
              "      <th></th>\n",
              "      <th>loss</th>\n",
              "      <th>accuracy</th>\n",
              "      <th>val_loss</th>\n",
              "      <th>val_accuracy</th>\n",
              "    </tr>\n",
              "  </thead>\n",
              "  <tbody>\n",
              "    <tr>\n",
              "      <th>0</th>\n",
              "      <td>0.178721</td>\n",
              "      <td>0.958685</td>\n",
              "      <td>0.066286</td>\n",
              "      <td>0.981222</td>\n",
              "    </tr>\n",
              "    <tr>\n",
              "      <th>1</th>\n",
              "      <td>0.050450</td>\n",
              "      <td>0.985143</td>\n",
              "      <td>0.050959</td>\n",
              "      <td>0.984906</td>\n",
              "    </tr>\n",
              "    <tr>\n",
              "      <th>2</th>\n",
              "      <td>0.037241</td>\n",
              "      <td>0.988617</td>\n",
              "      <td>0.048140</td>\n",
              "      <td>0.985603</td>\n",
              "    </tr>\n",
              "  </tbody>\n",
              "</table>\n",
              "</div>\n",
              "      <button class=\"colab-df-convert\" onclick=\"convertToInteractive('df-e8db2229-04df-42e0-bc93-c4f2abaa0bf4')\"\n",
              "              title=\"Convert this dataframe to an interactive table.\"\n",
              "              style=\"display:none;\">\n",
              "        \n",
              "  <svg xmlns=\"http://www.w3.org/2000/svg\" height=\"24px\"viewBox=\"0 0 24 24\"\n",
              "       width=\"24px\">\n",
              "    <path d=\"M0 0h24v24H0V0z\" fill=\"none\"/>\n",
              "    <path d=\"M18.56 5.44l.94 2.06.94-2.06 2.06-.94-2.06-.94-.94-2.06-.94 2.06-2.06.94zm-11 1L8.5 8.5l.94-2.06 2.06-.94-2.06-.94L8.5 2.5l-.94 2.06-2.06.94zm10 10l.94 2.06.94-2.06 2.06-.94-2.06-.94-.94-2.06-.94 2.06-2.06.94z\"/><path d=\"M17.41 7.96l-1.37-1.37c-.4-.4-.92-.59-1.43-.59-.52 0-1.04.2-1.43.59L10.3 9.45l-7.72 7.72c-.78.78-.78 2.05 0 2.83L4 21.41c.39.39.9.59 1.41.59.51 0 1.02-.2 1.41-.59l7.78-7.78 2.81-2.81c.8-.78.8-2.07 0-2.86zM5.41 20L4 18.59l7.72-7.72 1.47 1.35L5.41 20z\"/>\n",
              "  </svg>\n",
              "      </button>\n",
              "      \n",
              "  <style>\n",
              "    .colab-df-container {\n",
              "      display:flex;\n",
              "      flex-wrap:wrap;\n",
              "      gap: 12px;\n",
              "    }\n",
              "\n",
              "    .colab-df-convert {\n",
              "      background-color: #E8F0FE;\n",
              "      border: none;\n",
              "      border-radius: 50%;\n",
              "      cursor: pointer;\n",
              "      display: none;\n",
              "      fill: #1967D2;\n",
              "      height: 32px;\n",
              "      padding: 0 0 0 0;\n",
              "      width: 32px;\n",
              "    }\n",
              "\n",
              "    .colab-df-convert:hover {\n",
              "      background-color: #E2EBFA;\n",
              "      box-shadow: 0px 1px 2px rgba(60, 64, 67, 0.3), 0px 1px 3px 1px rgba(60, 64, 67, 0.15);\n",
              "      fill: #174EA6;\n",
              "    }\n",
              "\n",
              "    [theme=dark] .colab-df-convert {\n",
              "      background-color: #3B4455;\n",
              "      fill: #D2E3FC;\n",
              "    }\n",
              "\n",
              "    [theme=dark] .colab-df-convert:hover {\n",
              "      background-color: #434B5C;\n",
              "      box-shadow: 0px 1px 3px 1px rgba(0, 0, 0, 0.15);\n",
              "      filter: drop-shadow(0px 1px 2px rgba(0, 0, 0, 0.3));\n",
              "      fill: #FFFFFF;\n",
              "    }\n",
              "  </style>\n",
              "\n",
              "      <script>\n",
              "        const buttonEl =\n",
              "          document.querySelector('#df-e8db2229-04df-42e0-bc93-c4f2abaa0bf4 button.colab-df-convert');\n",
              "        buttonEl.style.display =\n",
              "          google.colab.kernel.accessAllowed ? 'block' : 'none';\n",
              "\n",
              "        async function convertToInteractive(key) {\n",
              "          const element = document.querySelector('#df-e8db2229-04df-42e0-bc93-c4f2abaa0bf4');\n",
              "          const dataTable =\n",
              "            await google.colab.kernel.invokeFunction('convertToInteractive',\n",
              "                                                     [key], {});\n",
              "          if (!dataTable) return;\n",
              "\n",
              "          const docLinkHtml = 'Like what you see? Visit the ' +\n",
              "            '<a target=\"_blank\" href=https://colab.research.google.com/notebooks/data_table.ipynb>data table notebook</a>'\n",
              "            + ' to learn more about interactive tables.';\n",
              "          element.innerHTML = '';\n",
              "          dataTable['output_type'] = 'display_data';\n",
              "          await google.colab.output.renderOutput(dataTable, element);\n",
              "          const docLink = document.createElement('div');\n",
              "          docLink.innerHTML = docLinkHtml;\n",
              "          element.appendChild(docLink);\n",
              "        }\n",
              "      </script>\n",
              "    </div>\n",
              "  </div>\n",
              "  "
            ]
          },
          "metadata": {},
          "execution_count": 44
        }
      ]
    },
    {
      "cell_type": "code",
      "source": [
        "metrics[['accuracy','val_accuracy']].plot()"
      ],
      "metadata": {
        "id": "bHu3hPWQ9B_C",
        "colab": {
          "base_uri": "https://localhost:8080/",
          "height": 287
        },
        "outputId": "9987f4b6-49af-4c13-cd2a-03572a10516f"
      },
      "execution_count": 45,
      "outputs": [
        {
          "output_type": "execute_result",
          "data": {
            "text/plain": [
              "<matplotlib.axes._subplots.AxesSubplot at 0x7f8cb5ff1650>"
            ]
          },
          "metadata": {},
          "execution_count": 45
        },
        {
          "output_type": "display_data",
          "data": {
            "text/plain": [
              "<Figure size 432x288 with 1 Axes>"
            ],
            "image/png": "[encoded data removed]"
          },
          "metadata": {
            "needs_background": "light"
          }
        }
      ]
    },
    {
      "cell_type": "code",
      "source": [
        "metrics[['loss','val_loss']].plot()"
      ],
      "metadata": {
        "id": "dwJ0H2tt9E4q",
        "colab": {
          "base_uri": "https://localhost:8080/",
          "height": 283
        },
        "outputId": "d8442dd0-c6d0-4668-df1e-ef67599dbaa7"
      },
      "execution_count": 46,
      "outputs": [
        {
          "output_type": "execute_result",
          "data": {
            "text/plain": [
              "<matplotlib.axes._subplots.AxesSubplot at 0x7f8cb5f15050>"
            ]
          },
          "metadata": {},
          "execution_count": 46
        },
        {
          "output_type": "display_data",
          "data": {
            "text/plain": [
              "<Figure size 432x288 with 1 Axes>"
            ],
            "image/png": "[encoded data removed]"
          },
          "metadata": {
            "needs_background": "light"
          }
        }
      ]
    },
    {
      "cell_type": "code",
      "source": [
        "i = 7\n",
        "p = model.predict(np.array([X_test[i]]))\n",
        "p = np.argmax(p, axis=-1)\n",
        "y_true = y_test[i]\n",
        "print(\"{:15}{:5}\\t {}\\n\".format(\"Word\", \"True\", \"Pred\"))\n",
        "print(\"-\" *30)\n",
        "for w, true, pred in zip(X_test[i], y_true, p[0]):\n",
        "    print(\"{:15}{}\\t{}\".format(words[w-1], tags[true], tags[pred]))"
      ],
      "metadata": {
        "id": "oXmdlsAI9UKj",
        "colab": {
          "base_uri": "https://localhost:8080/"
        },
        "outputId": "09b9b042-a200-4a9b-8947-70dbaa8d94e2"
      },
      "execution_count": 50,
      "outputs": [
        {
          "output_type": "stream",
          "name": "stdout",
          "text": [
            "1/1 [==============================] - 0s 39ms/step\n",
            "Word           True \t Pred\n",
            "\n",
            "------------------------------\n",
            "Indian         B-gpe\tB-gpe\n",
            "authorities    O\tO\n",
            "say            O\tO\n",
            "at             O\tO\n",
            "least          O\tO\n",
            "32             O\tO\n",
            "people         O\tO\n",
            "have           O\tO\n",
            "been           O\tO\n",
            "killed         O\tO\n",
            "in             O\tO\n",
            "two            O\tO\n",
            "road           O\tO\n",
            "accidents      O\tO\n",
            "in             O\tO\n",
            "northern       O\tO\n",
            "and            O\tO\n",
            "western        O\tO\n",
            "parts          O\tO\n",
            "of             O\tO\n",
            "the            O\tO\n",
            "country        O\tO\n",
            ".              O\tO\n",
            "Bermel         O\tO\n",
            "Bermel         O\tO\n",
            "Bermel         O\tO\n",
            "Bermel         O\tO\n",
            "Bermel         O\tO\n",
            "Bermel         O\tO\n",
            "Bermel         O\tO\n",
            "Bermel         O\tO\n",
            "Bermel         O\tO\n",
            "Bermel         O\tO\n",
            "Bermel         O\tO\n",
            "Bermel         O\tO\n",
            "Bermel         O\tO\n",
            "Bermel         O\tO\n",
            "Bermel         O\tO\n",
            "Bermel         O\tO\n",
            "Bermel         O\tO\n",
            "Bermel         O\tO\n",
            "Bermel         O\tO\n",
            "Bermel         O\tO\n",
            "Bermel         O\tO\n",
            "Bermel         O\tO\n",
            "Bermel         O\tO\n",
            "Bermel         O\tO\n",
            "Bermel         O\tO\n",
            "Bermel         O\tO\n",
            "Bermel         O\tO\n"
          ]
        }
      ]
    },
    {
      "cell_type": "code",
      "source": [],
      "metadata": {
        "id": "mq0krBV7pklP"
      },
      "execution_count": 47,
      "outputs": []
    }
  ]
}